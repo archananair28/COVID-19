{
 "cells": [
  {
   "cell_type": "markdown",
   "metadata": {},
   "source": [
    "# pyflourish.py script"
   ]
  },
  {
   "cell_type": "code",
   "execution_count": null,
   "metadata": {},
   "outputs": [],
   "source": [
    "import pandas as pd\n",
    "import os\n",
    "\n",
    "# changing directory to the python scripts directory:\n",
    "os.chdir(r'C:\\Users\\user\\Documents\\GitHub\\COVID-19\\python\\scripts')\n",
    "\n",
    "# Checking if directory contains all necessary files, otherwise it\n",
    "# raises an error:\n",
    "\n",
    "curr_dir = os.path.dirname(__file__)\n",
    "dir_files = os.listdir(curr_dir)\n",
    "\n",
    "necessary_files = ['config.csv','pycovidfunc.py',\n",
    "                  'coordinates.csv','country_map.csv',\n",
    "                  'region_mapping.csv']\n",
    "\n",
    "for file in necessary_files:\n",
    "    if file not in dir_files:\n",
    "        raise FileNotFoundError('No {} file found.'.format(file))\n",
    "\n",
    "import pycovidfunc as cv\n",
    "\n",
    "# Reading configuration file:\n",
    "config = pd.read_csv('config.csv',index_col='var').fillna('-')\n",
    "country_report = config.loc['formatted_data'].path\n",
    "\n",
    "# Checks if the flourish files directory exists, if not creates it:\n",
    "flourish_dir = config.loc['flourish_data_dir'].path\n",
    "flourish_dir_exists = os.path.exists(flourish_dir)\n",
    "\n",
    "if not flourish_dir_exists:\n",
    "    os.mkdir(os.path.join(curr_dir,'Flourish'))\n",
    "\n",
    "# Reading *.json dataframe file:\n",
    "if not os.path.isfile(country_report):\n",
    "    raise FileNotFoundError('No country_report.json dataframe file found.')\n",
    "else:\n",
    "    df = pd.read_json(country_report)\n",
    "\n",
    "# reading region mapping dictionary:\n",
    "region_mapping_dict = pd.read_csv('region_mapping.csv',header=None,index_col=0).to_dict()[1]"
   ]
  },
  {
   "cell_type": "code",
   "execution_count": null,
   "metadata": {},
   "outputs": [],
   "source": []
  },
  {
   "cell_type": "code",
   "execution_count": 8,
   "metadata": {},
   "outputs": [
    {
     "name": "stdout",
     "output_type": "stream",
     "text": [
      "--------------------------\n",
      "Creating files for the flourish racing bars chart\n",
      "creating the Active cases file\n",
      "creating the Confirmed cases file\n",
      "creating the Deaths cases file\n",
      "creating the Recovered cases file\n",
      "Files created succesfully!\n",
      "End execution of the flourish racing bars chart function.\n",
      "--------------------------\n",
      "--------------------------\n",
      "Creating files for the flourish studio parliament map\n",
      "Files created succesfully!\n",
      "End execution of the flourish parliament map function.\n",
      "--------------------------\n",
      "--------------------------\n",
      "Creating files for the flourish studio point map\n",
      "Files created succesfully!\n",
      "End execution of the flourish point map function.\n",
      "--------------------------\n",
      "--------------------------\n",
      "Creating files for the flourish studio hierarchy chart\n",
      "Files created succesfully!\n",
      "End execution of the flourish hierarchy chart function.\n",
      "--------------------------\n"
     ]
    }
   ],
   "source": [
    "\n",
    "\n",
    "# 1 - Racing bars chart:\n",
    "initial_date = '2020-03-06'\n",
    "parameters = ['Active','Confirmed','Deaths','Recovered']\n",
    "\n",
    "cv.flourish_racing_bars(df,parameters,initial_date,file_dir)\n",
    "\n",
    "# ===============\n",
    "# 2 - Parliament map:\n",
    "\n",
    "seats = ['Confirmed','Active','Recovered','Deaths']\n",
    "cv.flourish_parliament_map(df,seats,region_mapping_dict,file_dir)\n",
    "\n",
    "# ===============\n",
    "# 3 - Point map:\n",
    "\n",
    "lat = pd.read_csv('coordinates.csv',header=None,index_col=0).to_dict()[1]\n",
    "long = pd.read_csv('coordinates.csv',header=None,index_col=0).to_dict()[2]\n",
    "parameters = ['Confirmed','Active','Recovered','Deaths']\n",
    "\n",
    "cv.flourish_point_map(df,parameters,lat,long,file_dir)\n",
    "\n",
    "# ===============\n",
    "# 4 - Hierarchy chart:\n",
    "\n",
    "cases = ['Confirmed','Active','Recovered','Deaths']\n",
    "cv.flourish_hierarchy_chart(df,cases,region_mapping_dict,file_dir)"
   ]
  },
  {
   "cell_type": "code",
   "execution_count": null,
   "metadata": {},
   "outputs": [],
   "source": []
  }
 ],
 "metadata": {
  "kernelspec": {
   "display_name": "Python 3",
   "language": "python",
   "name": "python3"
  },
  "language_info": {
   "codemirror_mode": {
    "name": "ipython",
    "version": 3
   },
   "file_extension": ".py",
   "mimetype": "text/x-python",
   "name": "python",
   "nbconvert_exporter": "python",
   "pygments_lexer": "ipython3",
   "version": "3.7.6"
  }
 },
 "nbformat": 4,
 "nbformat_minor": 4
}
