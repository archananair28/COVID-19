{
 "cells": [
  {
   "cell_type": "code",
   "execution_count": 1,
   "metadata": {},
   "outputs": [],
   "source": [
    "import pandas as pd\n",
    "from os import listdir, getcwd\n",
    "from datetime import datetime, timedelta\n",
    "from pycovid import pycovidfunc as cv"
   ]
  },
  {
   "cell_type": "code",
   "execution_count": 2,
   "metadata": {},
   "outputs": [],
   "source": [
    "def raw_data_formatter(file_list,file_dir):\n",
    "    from os import path\n",
    "    \n",
    "    df = pd.DataFrame()\n",
    "    for arquivo in file_list:\n",
    "        file = path.join(file_dir, arquivo)\n",
    "        date=datetime.strptime(arquivo.split(sep='.')[0],'%m-%d-%Y')\n",
    "        df_arquivo = pd.read_csv(file)\n",
    "        df_arquivo['Date'] = date\n",
    "        df = pd.concat([df,df_arquivo])\n",
    "        \n",
    "    # Merging the data from columns with same content but different headers:\n",
    "    Country = df.Country_Region\n",
    "    Province = df.Province_State\n",
    "    Last_Update = df.Last_Update\n",
    "    Latitude = df.Lat\n",
    "    Longitude = df.Long_\n",
    "\n",
    "    df_aux = pd.DataFrame({'Country/Region': Country,'Province/State': Province,\n",
    "                           'Last Update': Last_Update,'Latitude': Latitude,\n",
    "                           'Longitude': Longitude})\n",
    "    df = df.combine_first(df_aux)\n",
    "\n",
    "    # Dropping columns that won't be used:\n",
    "    df.drop(axis=1,labels=['Country_Region','Province_State','Last_Update',\n",
    "                           'FIPS','Combined_Key','Long_','Lat','Admin2',\n",
    "                           'Case-Fatality_Ratio','Incidence_Rate'],inplace=True)\n",
    "\n",
    "    # Formatting datetime columns:\n",
    "    df['Last Update'] = pd.to_datetime(df['Last Update'])\n",
    "\n",
    "    # Replacing NaN values on numeric data with 0:\n",
    "    new_values = {'Deaths': 0, 'Active': 0, 'Recovered': 0,\n",
    "                  'Confirmed': 0,'Latitude': 0, 'Longitude': 0}\n",
    "    df.fillna(value=new_values,inplace=True)\n",
    "\n",
    "    # Replacing NaN values on non numeric data with '-':\n",
    "    df.fillna(value='-',inplace=True)\n",
    "\n",
    "    # Adding date columns:\n",
    "    df['Year'] = pd.DatetimeIndex(df['Date']).year\n",
    "    df['Month'] = pd.to_datetime(df['Date']).dt.strftime('%b')\n",
    "    df['Week'] = pd.DatetimeIndex(df['Date']).week\n",
    "    df['Day'] = pd.DatetimeIndex(df['Date']).day\n",
    "\n",
    "    # Establishing number of active cases as the difference between\n",
    "    # Confirmed cases and Death cases:\n",
    "    df['Active'] = df['Confirmed'] - df['Deaths'] - df['Recovered']\n",
    "\n",
    "    # Calculating Mortality rate as the ratio between Deaths and\n",
    "    # Confirmed cases for each day:\n",
    "    df['Mortality rate in %'] = (df['Deaths']/df['Confirmed']*100).fillna(value=0)\n",
    "    \n",
    "    return df"
   ]
  },
  {
   "cell_type": "code",
   "execution_count": 4,
   "metadata": {},
   "outputs": [
    {
     "name": "stdout",
     "output_type": "stream",
     "text": [
      "0 new files found. No further action necessary\n"
     ]
    }
   ],
   "source": [
    "# Read the config file to check for data file information:\n",
    "\n",
    "if 'config.csv' in listdir(getcwd()):\n",
    "    config = pd.read_csv('config.csv',index_col='var').fillna('-')\n",
    "else:\n",
    "    raise FileNotFoundError('No configuration file \"config.csv\" found.')\n",
    "    \n",
    "last_update = pd.to_datetime(config.loc['raw_data'].last_update)\n",
    "who_data_dir = config.loc['who_data_dir'].path\n",
    "who_file_list = listdir(who_data_dir)\n",
    "\n",
    "for file in who_file_list:\n",
    "    if not file.endswith('.csv'):\n",
    "        who_file_list.remove(file)\n",
    "\n",
    "# Compare the latest WHO file to the raw data update information\n",
    "# and calculates the number of files to update:\n",
    "\n",
    "latest_who_file_date = pd.to_datetime(who_file_list[-1].split(sep='.')[0])\n",
    "files_to_update = (latest_who_file_date - last_update).days\n",
    "\n",
    "# Generating the list of new files to update the database\n",
    "if files_to_update != 0:\n",
    "    print('%d new files found. Adding the new information into the raw data file' \n",
    "          % (files_to_update))\n",
    "    list_of_new_files = []\n",
    "    for i in list(range(1,files_to_update + 1)):\n",
    "        new_date = datetime.strftime((last_update\n",
    "                                      + timedelta(days=i)).date(),\n",
    "                                      format='%m-%d-%Y')\n",
    "        list_of_new_files.append(new_date + '.csv')\n",
    "    \n",
    "    # Generating a dataframe with new information:\n",
    "    df = cv.raw_data_formatter(list_of_new_files,who_data_dir)\n",
    "    \n",
    "    # Appending the new data to existing raw data file and updating\n",
    "    # the raw data information in the config file:\n",
    "    \n",
    "    raw_data_path = config.loc['raw_data'].path\n",
    "    config.loc['raw_data'].last_update = new_date\n",
    "    \n",
    "    df.to_csv(raw_data_path, mode='a', index=False, header=None)\n",
    "    config.to_csv('config.csv', index=False)\n",
    "else:\n",
    "    print('0 new files found. No further action necessary')"
   ]
  },
  {
   "cell_type": "code",
   "execution_count": null,
   "metadata": {},
   "outputs": [],
   "source": []
  }
 ],
 "metadata": {
  "kernelspec": {
   "display_name": "Python 3",
   "language": "python",
   "name": "python3"
  },
  "language_info": {
   "codemirror_mode": {
    "name": "ipython",
    "version": 3
   },
   "file_extension": ".py",
   "mimetype": "text/x-python",
   "name": "python",
   "nbconvert_exporter": "python",
   "pygments_lexer": "ipython3",
   "version": "3.7.6"
  }
 },
 "nbformat": 4,
 "nbformat_minor": 4
}
