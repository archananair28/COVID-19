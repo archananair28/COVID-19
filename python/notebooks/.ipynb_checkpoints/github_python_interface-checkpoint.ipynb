{
 "cells": [
  {
   "cell_type": "markdown",
   "metadata": {},
   "source": [
    "# GIT PYTHON"
   ]
  },
  {
   "cell_type": "code",
   "execution_count": 1,
   "metadata": {},
   "outputs": [],
   "source": [
    "import os\n",
    "import sys\n",
    "\n",
    "git_dir = r\"C:\\Program Files\\Git\\cmd\"\n",
    "git_bin = os.path.join(git_dir, \"git\")\n",
    "\n",
    "os.putenv(\"GIT_PYTHON_GIT_EXECUTABLE\", git_bin)\n",
    "os.environ.putenv(\"GIT_PYTHON_GIT_EXECUTABLE\", git_bin)\n",
    "\n",
    "# Making sure that it is first in PATH\n",
    "sys.path = [git_dir] + sys.path\n",
    "os.environ[\"PATH\"] = os.pathsep.join([git_dir]) + os.pathsep + os.environ[\"PATH\"]\n",
    "\n",
    "# Only import git now, because that's when the path is checked!\n",
    "import git"
   ]
  },
  {
   "cell_type": "code",
   "execution_count": 14,
   "metadata": {},
   "outputs": [],
   "source": [
    "origin_repo = r\"C:\\Users\\user\\Documents\\GitHub\\COVID-19\"\n",
    "repo = git.Repo(origin_repo)"
   ]
  },
  {
   "cell_type": "code",
   "execution_count": 15,
   "metadata": {},
   "outputs": [
    {
     "data": {
      "text/plain": [
       "'Already up to date.'"
      ]
     },
     "execution_count": 15,
     "metadata": {},
     "output_type": "execute_result"
    }
   ],
   "source": [
    "# upstream repository\n",
    "upstream_repo = repo.remotes.upstream\n",
    "\n",
    "g = git.Git(upstream_repo)\n",
    "g.pull('upstream','master')"
   ]
  },
  {
   "cell_type": "code",
   "execution_count": 3,
   "metadata": {},
   "outputs": [
    {
     "name": "stdout",
     "output_type": "stream",
     "text": [
      "Remote named \"origin\" with URL \"https://github.com/psychopresley/COVID-19.git\"\n",
      "Last commit for repo is ce36d1171e0c63b4eb1b1a0b40c7ed16761f25dd.\n",
      "Remote named \"upstream\" with URL \"https://github.com/CSSEGISandData/COVID-19.git\"\n",
      "Last commit for repo is ce36d1171e0c63b4eb1b1a0b40c7ed16761f25dd.\n"
     ]
    }
   ],
   "source": [
    "for remote in repo.remotes:\n",
    "    print('Remote named \"{}\" with URL \"{}\"'.format(remote, remote.url))\n",
    "    print('Last commit for repo is {}.'.format(str(repo.head.commit.hexsha)))"
   ]
  },
  {
   "cell_type": "code",
   "execution_count": 46,
   "metadata": {},
   "outputs": [
    {
     "name": "stdout",
     "output_type": "stream",
     "text": [
      "Repo at None successfully loaded.\n"
     ]
    },
    {
     "ename": "NameError",
     "evalue": "name 'print_commit' is not defined",
     "output_type": "error",
     "traceback": [
      "\u001b[1;31m---------------------------------------------------------------------------\u001b[0m",
      "\u001b[1;31mNameError\u001b[0m                                 Traceback (most recent call last)",
      "\u001b[1;32m<ipython-input-46-cdd72ddc1003>\u001b[0m in \u001b[0;36m<module>\u001b[1;34m\u001b[0m\n\u001b[0;32m      9\u001b[0m     \u001b[0mcommits\u001b[0m \u001b[1;33m=\u001b[0m \u001b[0mlist\u001b[0m\u001b[1;33m(\u001b[0m\u001b[0mrepo\u001b[0m\u001b[1;33m.\u001b[0m\u001b[0miter_commits\u001b[0m\u001b[1;33m(\u001b[0m\u001b[1;34m'master'\u001b[0m\u001b[1;33m)\u001b[0m\u001b[1;33m)\u001b[0m\u001b[1;33m[\u001b[0m\u001b[1;33m:\u001b[0m\u001b[1;36m5\u001b[0m\u001b[1;33m]\u001b[0m\u001b[1;33m\u001b[0m\u001b[1;33m\u001b[0m\u001b[0m\n\u001b[0;32m     10\u001b[0m     \u001b[1;32mfor\u001b[0m \u001b[0mcommit\u001b[0m \u001b[1;32min\u001b[0m \u001b[0mcommits\u001b[0m\u001b[1;33m:\u001b[0m\u001b[1;33m\u001b[0m\u001b[1;33m\u001b[0m\u001b[0m\n\u001b[1;32m---> 11\u001b[1;33m         \u001b[0mprint_commit\u001b[0m\u001b[1;33m(\u001b[0m\u001b[0mcommit\u001b[0m\u001b[1;33m)\u001b[0m\u001b[1;33m\u001b[0m\u001b[1;33m\u001b[0m\u001b[0m\n\u001b[0m\u001b[0;32m     12\u001b[0m         \u001b[1;32mpass\u001b[0m\u001b[1;33m\u001b[0m\u001b[1;33m\u001b[0m\u001b[0m\n",
      "\u001b[1;31mNameError\u001b[0m: name 'print_commit' is not defined"
     ]
    }
   ],
   "source": [
    "repo_path = os.getenv('GIT_REPO_PATH')\n",
    "# Repo object used to programmatically interact with Git repositories\n",
    "\n",
    "# check that the repository loaded correctly\n",
    "if not repo.bare:\n",
    "    print('Repo at {} successfully loaded.'.format(repo_path))\n",
    "    #print_repository(repo)\n",
    "    # create list of commits then print some of them to stdout\n",
    "    commits = list(repo.iter_commits('master'))[:5]\n",
    "    for commit in commits:\n",
    "        print_commit(commit)\n",
    "        pass"
   ]
  },
  {
   "cell_type": "code",
   "execution_count": 176,
   "metadata": {},
   "outputs": [],
   "source": [
    "def commit_to_repo(repo):\n",
    "    '''\n",
    "    Function to execute the commit process to the repo object\n",
    "    active branch. It must have the git module correctly imported\n",
    "    prior to its use.\n",
    "    \n",
    "    repo = git object\n",
    "    '''\n",
    "    from datetime import datetime\n",
    "\n",
    "    # Creating commit information for repo index:\n",
    "    now_str = datetime.now()\n",
    "    now_str = datetime.strftime(now_str, format='%Y-%m-%d %Hh%Mm')\n",
    "    \n",
    "    author = git.Actor('Marcio Garcia',\n",
    "                       'psycho.presley@gmail.com')\n",
    "    committer = git.Actor('Marcio Garcia',\n",
    "                          'psycho.presley@gmail.com')\n",
    "    \n",
    "    try:\n",
    "        repo.git.add(update=True)\n",
    "        repo.index.commit(\n",
    "            \"automated update {}\".format(now_str),\n",
    "            author=author,\n",
    "            committer=committer,\n",
    "            author_date=now_str.split(sep=' ')[0],\n",
    "            commit_date=now_str.split(sep=' ')[0]\n",
    "        )\n",
    "        origin = repo.remote(name='origin')\n",
    "        origin.push()\n",
    "        print('Commit process succesfull')\n",
    "    except:\n",
    "        print('Not able to commit. Please check git information')"
   ]
  },
  {
   "cell_type": "code",
   "execution_count": 64,
   "metadata": {},
   "outputs": [
    {
     "name": "stdout",
     "output_type": "stream",
     "text": [
      "C:\\Users\\user\\Documents\\GitHub\\COVID-19\n"
     ]
    }
   ],
   "source": [
    "print(repo.git.working_dir)"
   ]
  },
  {
   "cell_type": "code",
   "execution_count": 4,
   "metadata": {},
   "outputs": [
    {
     "data": {
      "text/plain": [
       "'https://github.com/CSSEGISandData/COVID-19.git'"
      ]
     },
     "execution_count": 4,
     "metadata": {},
     "output_type": "execute_result"
    }
   ],
   "source": [
    "repo.remotes.upstream.url"
   ]
  },
  {
   "cell_type": "code",
   "execution_count": 50,
   "metadata": {},
   "outputs": [],
   "source": [
    "headcommit = repo.head.commit"
   ]
  },
  {
   "cell_type": "code",
   "execution_count": 105,
   "metadata": {},
   "outputs": [],
   "source": [
    "a=list(g.get_object_data('master'))[3]"
   ]
  },
  {
   "cell_type": "code",
   "execution_count": 157,
   "metadata": {},
   "outputs": [],
   "source": [
    "from datetime import datetime\n",
    "\n",
    "now_str = datetime.now()\n",
    "now_str = datetime.strftime(now_str, format='%Y-%m-%d %Hh%Mm')"
   ]
  },
  {
   "cell_type": "code",
   "execution_count": 166,
   "metadata": {},
   "outputs": [],
   "source": [
    "repo.description = 'covid19 data analysis git project'"
   ]
  },
  {
   "cell_type": "code",
   "execution_count": 167,
   "metadata": {},
   "outputs": [
    {
     "data": {
      "text/plain": [
       "'covid19 data analysis git project'"
      ]
     },
     "execution_count": 167,
     "metadata": {},
     "output_type": "execute_result"
    }
   ],
   "source": [
    "repo.description"
   ]
  },
  {
   "cell_type": "code",
   "execution_count": 175,
   "metadata": {},
   "outputs": [
    {
     "data": {
      "text/plain": [
       "<git.index.base.IndexFile at 0x29c0d62bf48>"
      ]
     },
     "execution_count": 175,
     "metadata": {},
     "output_type": "execute_result"
    }
   ],
   "source": []
  },
  {
   "cell_type": "code",
   "execution_count": null,
   "metadata": {},
   "outputs": [],
   "source": []
  }
 ],
 "metadata": {
  "kernelspec": {
   "display_name": "Python 3",
   "language": "python",
   "name": "python3"
  },
  "language_info": {
   "codemirror_mode": {
    "name": "ipython",
    "version": 3
   },
   "file_extension": ".py",
   "mimetype": "text/x-python",
   "name": "python",
   "nbconvert_exporter": "python",
   "pygments_lexer": "ipython3",
   "version": "3.7.6"
  }
 },
 "nbformat": 4,
 "nbformat_minor": 4
}
