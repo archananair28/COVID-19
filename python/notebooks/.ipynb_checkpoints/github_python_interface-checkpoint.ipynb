{
 "cells": [
  {
   "cell_type": "markdown",
   "metadata": {},
   "source": [
    "# GIT PYTHON"
   ]
  },
  {
   "cell_type": "code",
   "execution_count": 1,
   "metadata": {},
   "outputs": [],
   "source": [
    "import os\n",
    "import sys\n",
    "\n",
    "git_dir = r\"C:\\Program Files\\Git\\cmd\"\n",
    "git_bin = os.path.join(git_dir, \"git\")\n",
    "\n",
    "os.putenv(\"GIT_PYTHON_GIT_EXECUTABLE\", git_bin)\n",
    "os.environ.putenv(\"GIT_PYTHON_GIT_EXECUTABLE\", git_bin)\n",
    "\n",
    "# Making sure that it is first in PATH\n",
    "sys.path = [git_dir] + sys.path\n",
    "os.environ[\"PATH\"] = os.pathsep.join([git_dir]) + os.pathsep + os.environ[\"PATH\"]\n",
    "\n",
    "# Only import git now, because that's when the path is checked!\n",
    "import git"
   ]
  },
  {
   "cell_type": "code",
   "execution_count": 203,
   "metadata": {},
   "outputs": [],
   "source": [
    "origin_repo = r\"C:\\Users\\user\\Documents\\GitHub\\COVID-19\"\n",
    "repo = git.Repo(origin_repo)"
   ]
  },
  {
   "cell_type": "code",
   "execution_count": 15,
   "metadata": {},
   "outputs": [
    {
     "data": {
      "text/plain": [
       "'Already up to date.'"
      ]
     },
     "execution_count": 15,
     "metadata": {},
     "output_type": "execute_result"
    }
   ],
   "source": [
    "# upstream repository\n",
    "upstream_repo = repo.remotes.upstream\n",
    "\n",
    "g = git.Git(upstream_repo)\n",
    "g.pull('upstream','master')"
   ]
  },
  {
   "cell_type": "code",
   "execution_count": 64,
   "metadata": {},
   "outputs": [
    {
     "name": "stdout",
     "output_type": "stream",
     "text": [
      "C:\\Users\\user\\Documents\\GitHub\\COVID-19\n"
     ]
    }
   ],
   "source": [
    "print(repo.git.working_dir)"
   ]
  },
  {
   "cell_type": "code",
   "execution_count": 4,
   "metadata": {},
   "outputs": [
    {
     "data": {
      "text/plain": [
       "'https://github.com/CSSEGISandData/COVID-19.git'"
      ]
     },
     "execution_count": 4,
     "metadata": {},
     "output_type": "execute_result"
    }
   ],
   "source": [
    "repo.remotes.upstream.url"
   ]
  },
  {
   "cell_type": "code",
   "execution_count": 251,
   "metadata": {},
   "outputs": [],
   "source": [
    "headcommit = repo.head.commit"
   ]
  },
  {
   "cell_type": "code",
   "execution_count": 257,
   "metadata": {},
   "outputs": [
    {
     "data": {
      "text/plain": [
       "(b'\\x83\\x92\\xbd.\\x8d\\tUY\\x98\\x0e\\xabv\\xeef&\\x14\\xd1ahH',\n",
       " b'commit',\n",
       " 260,\n",
       " <git.cmd.Git.CatFileContentStream at 0x29c0ea51148>)"
      ]
     },
     "execution_count": 257,
     "metadata": {},
     "output_type": "execute_result"
    }
   ],
   "source": [
    "headcommit."
   ]
  },
  {
   "cell_type": "code",
   "execution_count": 105,
   "metadata": {},
   "outputs": [],
   "source": [
    "a=list(g.get_object_data('master'))[3]"
   ]
  },
  {
   "cell_type": "code",
   "execution_count": 210,
   "metadata": {},
   "outputs": [
    {
     "name": "stdout",
     "output_type": "stream",
     "text": [
      "\n"
     ]
    }
   ],
   "source": [
    "print(repo.git.diff(None, name_only=True))"
   ]
  },
  {
   "cell_type": "code",
   "execution_count": 248,
   "metadata": {},
   "outputs": [],
   "source": [
    "def repo_info(repo):\n",
    "    '''\n",
    "    This function returns the information of the git repository. This algorithm is a direct adaptation\n",
    "    of the one presented at https://www.fullstackpython.com/blog/first-steps-gitpython.html\n",
    "    '''\n",
    "    repo_path = os.getenv('GIT_REPO_PATH')\n",
    "    # Repo object used to programmatically interact with Git repositories\n",
    "\n",
    "    # check that the repository loaded correctly\n",
    "    if not repo.bare:\n",
    "        print('Repo at {} successfully loaded.'.format(repo_path))\n",
    "        print('Repo description: {}'.format(repo.description))\n",
    "        print('Repo active branch: {}'.format(repo.active_branch))\n",
    "        for remote in repo.remotes:\n",
    "            print('Remote named \"{}\" with URL \"{}\"'.format(remote, remote.url))\n",
    "        print('Last commit for repo: {}.'.format(str(repo.head.commit.hexsha)))\n",
    "        \n",
    "        # take the last commit then print some information\n",
    "        commits = list(repo.iter_commits('master'))[:1]\n",
    "        \n",
    "        for commit in commits:\n",
    "            print('----')\n",
    "            print('commit: {}'.format(str(commit.hexsha)))\n",
    "            print(\"\\\"{}\\\" by {} ({})\".format(commit.summary,\n",
    "                                             commit.author.name,\n",
    "                                             commit.author.email))\n",
    "            print(str(commit.authored_datetime))\n",
    "            print(str(\"count: {} and size: {}\".format(commit.count(),\n",
    "                                                      commit.size)))"
   ]
  },
  {
   "cell_type": "code",
   "execution_count": 249,
   "metadata": {},
   "outputs": [
    {
     "name": "stdout",
     "output_type": "stream",
     "text": [
      "Repo at None successfully loaded.\n",
      "Repo description: covid19 data analysis git project\n",
      "Repo active branch: master\n",
      "Remote named \"origin\" with URL \"https://github.com/psychopresley/COVID-19.git\"\n",
      "Remote named \"upstream\" with URL \"https://github.com/CSSEGISandData/COVID-19.git\"\n",
      "Last commit for repo: 8392bd2e8d095559980eab76ee662614d1616848.\n",
      "----\n",
      "commit: 8392bd2e8d095559980eab76ee662614d1616848\n",
      "\"automated update 2020-07-16 15h38m\" by psychopresley (psychopresley@gmail.com)\n",
      "2020-07-16 15:38:24-03:00\n",
      "count: 1345 and size: 260\n"
     ]
    }
   ],
   "source": [
    "repo_info(repo)"
   ]
  },
  {
   "cell_type": "markdown",
   "metadata": {},
   "source": [
    "        repo.index.commit(\"automated update {}\".format(now_str),\n",
    "            author='Marcio Garcia',\n",
    "            committer='Marcio Garcia',\n",
    "            author_date=now_str.split(sep=' ')[0],\n",
    "            commit_date=now_str.split(sep=' ')[0])\n"
   ]
  }
 ],
 "metadata": {
  "kernelspec": {
   "display_name": "Python 3",
   "language": "python",
   "name": "python3"
  },
  "language_info": {
   "codemirror_mode": {
    "name": "ipython",
    "version": 3
   },
   "file_extension": ".py",
   "mimetype": "text/x-python",
   "name": "python",
   "nbconvert_exporter": "python",
   "pygments_lexer": "ipython3",
   "version": "3.7.6"
  }
 },
 "nbformat": 4,
 "nbformat_minor": 4
}
