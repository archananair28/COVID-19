{
 "cells": [
  {
   "cell_type": "code",
   "execution_count": 1,
   "metadata": {},
   "outputs": [],
   "source": [
    "import pandas as pd\n",
    "from os import listdir, path"
   ]
  },
  {
   "cell_type": "code",
   "execution_count": 2,
   "metadata": {},
   "outputs": [],
   "source": [
    "pd.options.display.max_columns = None\n",
    "pd.options.display.max_rows = None"
   ]
  },
  {
   "cell_type": "markdown",
   "metadata": {},
   "source": [
    "# 1 - DATA TO BE READ BY POWER BI"
   ]
  },
  {
   "cell_type": "code",
   "execution_count": 2,
   "metadata": {},
   "outputs": [],
   "source": [
    "config=pd.read_csv('config.csv',index_col='var')\n",
    "label_map = pd.read_csv('label_map.csv',header=None,index_col=0)\n",
    "\n",
    "province_mapping_dict = label_map.loc[label_map[2] == 'province'][1].to_dict()\n",
    "\n",
    "file = config.loc['raw_data'].path"
   ]
  },
  {
   "cell_type": "code",
   "execution_count": 8,
   "metadata": {},
   "outputs": [],
   "source": [
    "df = pd.read_csv(file)"
   ]
  },
  {
   "cell_type": "code",
   "execution_count": 12,
   "metadata": {},
   "outputs": [],
   "source": [
    "df = df[df['Province/State'] != '-']\n",
    "df = df[df['Province/State'] != 'Recovered']\n",
    "df['Province/State'] = df['Province/State'].transform(lambda x: province_mapping_dict[x]\n",
    "                                                      if x in province_mapping_dict.keys()\n",
    "                                                      else x)\n",
    "\n",
    "columns = ['Province/State','Country/Region','Date','Confirmed',\n",
    "           'Active','Recovered','Deaths']\n",
    "df = df[columns].groupby(['Province/State','Country/Region','Date']).sum().reset_index()\n",
    "#df.set_index('Province/State',inplace=True)\n",
    "df.head(5)\n",
    "\n",
    "df.to_csv('province_report.csv',index=False)"
   ]
  },
  {
   "cell_type": "code",
   "execution_count": 43,
   "metadata": {},
   "outputs": [],
   "source": [
    "df_province.to_csv('province_report.csv',index=False,header=False,mode='a')"
   ]
  },
  {
   "cell_type": "code",
   "execution_count": 5,
   "metadata": {},
   "outputs": [],
   "source": [
    "from datadotworld import api_client as dw\n",
    "dw().sync_files('psychopresley/covid19tracking')"
   ]
  },
  {
   "cell_type": "code",
   "execution_count": 13,
   "metadata": {},
   "outputs": [],
   "source": [
    "def province_data_formatter(raw_data):\n",
    "    '''\n",
    "    Creates the world data report from the raw data dataframe.\n",
    "    \n",
    "    This function works along the raw_data as returned by the\n",
    "    raw_data_formatter function. Changes in raw_data_formatter\n",
    "    affect directly this function.\n",
    "    \n",
    "    It creates all columns necessary for analysis with Power BI\n",
    "    from the John Hopkins Data Science Center and it returns a\n",
    "    new DataFrame object with calculated columns.\n",
    "    \n",
    "    Parameters\n",
    "    ----------\n",
    "    raw_data: obj, DataFrame\n",
    "        the raw data DataFrame as returned by the raw_data_formatter\n",
    "        function.\n",
    "    '''\n",
    "    raw_data = raw_data[raw_data['Province/State'] != '-']\n",
    "    raw_data = raw_data[raw_data['Province/State'] != 'Recovered']\n",
    "    raw_data['Province/State'] = raw_data['Province/State'].transform(lambda x: province_mapping_dict[x]\n",
    "                                                                      if x in province_mapping_dict.keys()\n",
    "                                                                      else x)\n",
    "\n",
    "    columns = ['Province/State','Country/Region','Date','Confirmed',\n",
    "               'Active','Recovered','Deaths']\n",
    "    raw_data = raw_data[columns].groupby(['Province/State','Country/Region','Date']).sum().reset_index()\n",
    "\n",
    "    return raw_data"
   ]
  },
  {
   "cell_type": "code",
   "execution_count": 24,
   "metadata": {},
   "outputs": [],
   "source": [
    "# Alternative function:\n",
    "\n",
    "def province_data_formatter(df):\n",
    "    '''\n",
    "    Creates the world data report from the raw data dataframe.\n",
    "    \n",
    "    This function works along the raw_data as returned by the\n",
    "    raw_data_formatter function. Changes in raw_data_formatter\n",
    "    affect directly this function.\n",
    "    \n",
    "    It creates all columns necessary for analysis with Power BI\n",
    "    from the John Hopkins Data Science Center and it returns a\n",
    "    new DataFrame object with calculated columns.\n",
    "    \n",
    "    Parameters\n",
    "    ----------\n",
    "    raw_data: obj, DataFrame\n",
    "        the raw data DataFrame as returned by the raw_data_formatter\n",
    "        function.\n",
    "    '''\n",
    "    from pandas import concat\n",
    "    \n",
    "    columns = ['Province/State','Country/Region','Date','Confirmed',\n",
    "               'Active','Recovered','Deaths']\n",
    "    df = df[columns].groupby(['Province/State','Country/Region','Date']).sum().reset_index()\n",
    "\n",
    "    columns = ['Confirmed','Active','Recovered','Deaths']\n",
    "    new_cases = [item + ' new cases' for item in columns]\n",
    "    df[new_cases] = df.groupby('Province/State')[columns].diff().fillna(value=0)\n",
    "\n",
    "    columns_mov_avg = columns.copy()\n",
    "    columns_mov_avg.extend(new_cases)\n",
    "\n",
    "    mov_avg = [3,7,15]\n",
    "    df_province = df.copy()\n",
    "    for day in mov_avg:\n",
    "        new_columns = [item + ' {}-day mov avg'.format(day) for item in columns_mov_avg]\n",
    "        df_aux = df.groupby('Province/State').rolling(day).mean().fillna(value=0).reset_index()\n",
    "        df_aux.drop(['Province/State','level_1'],axis=1,inplace=True)\n",
    "        df_aux.columns = new_columns\n",
    "\n",
    "        df_province = concat([df_province,df_aux],axis=1)\n",
    "    \n",
    "    return df_province"
   ]
  },
  {
   "cell_type": "code",
   "execution_count": null,
   "metadata": {},
   "outputs": [],
   "source": []
  }
 ],
 "metadata": {
  "kernelspec": {
   "display_name": "Python 3",
   "language": "python",
   "name": "python3"
  },
  "language_info": {
   "codemirror_mode": {
    "name": "ipython",
    "version": 3
   },
   "file_extension": ".py",
   "mimetype": "text/x-python",
   "name": "python",
   "nbconvert_exporter": "python",
   "pygments_lexer": "ipython3",
   "version": "3.7.6"
  }
 },
 "nbformat": 4,
 "nbformat_minor": 4
}
