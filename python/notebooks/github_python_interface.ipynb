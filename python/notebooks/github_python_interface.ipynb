{
 "cells": [
  {
   "cell_type": "markdown",
   "metadata": {},
   "source": [
    "# GIT PYTHON"
   ]
  },
  {
   "cell_type": "code",
   "execution_count": 1,
   "metadata": {},
   "outputs": [],
   "source": [
    "import os\n",
    "import sys\n",
    "from pandas import read_csv\n",
    "from pycovid import pycovidfunc as cv\n",
    "\n",
    "git_dir = r\"C:\\Program Files\\Git\\cmd\"\n",
    "git_bin = os.path.join(git_dir, \"git\")\n",
    "\n",
    "os.putenv(\"GIT_PYTHON_GIT_EXECUTABLE\", git_bin)\n",
    "os.environ.putenv(\"GIT_PYTHON_GIT_EXECUTABLE\", git_bin)\n",
    "\n",
    "# Making sure that it is first in PATH\n",
    "sys.path = [git_dir] + sys.path\n",
    "os.environ[\"PATH\"] = os.pathsep.join([git_dir]) + os.pathsep + os.environ[\"PATH\"]\n",
    "\n",
    "# Only import git now, because that's when the path is checked!\n",
    "import git"
   ]
  },
  {
   "cell_type": "code",
   "execution_count": null,
   "metadata": {},
   "outputs": [],
   "source": [
    "# Creating Repo object for interaction with git:\n",
    "config=read_csv('config.csv',index_col='var')\n",
    "repo = git.Repo(config.loc['git_repo'].path)\n",
    "\n",
    "# upstream repository\n",
    "upstream_repo = repo.remotes.upstream\n",
    "\n",
    "# Pull upstream base repo and check for modified files:\n",
    "file_path = config.loc['who_data_dir'].path\n",
    "lm_frame = cv.get_date_modified(file_path)\n",
    "\n",
    "g = git.Git(upstream_repo)\n",
    "g.pull('upstream','master')\n",
    "\n",
    "lm_after_git_pull = cv.get_date_modified(file_path)\n",
    "count_modified = 0\n",
    "\n",
    "for idx in lm_frame.index:\n",
    "    new_last_modified = lm_after_git_pull.loc[idx].last_modified\n",
    "    if lm_frame.loc[idx].last_modified != new_last_modified:\n",
    "        count_modified += 1"
   ]
  },
  {
   "cell_type": "code",
   "execution_count": 3,
   "metadata": {},
   "outputs": [
    {
     "data": {
      "text/plain": [
       "0"
      ]
     },
     "execution_count": 3,
     "metadata": {},
     "output_type": "execute_result"
    }
   ],
   "source": [
    "count_modified"
   ]
  },
  {
   "cell_type": "code",
   "execution_count": 9,
   "metadata": {},
   "outputs": [
    {
     "name": "stdout",
     "output_type": "stream",
     "text": [
      "python/notebooks/.ipynb_checkpoints/github_python_interface-checkpoint.ipynb\n",
      "python/notebooks/github_python_interface.ipynb\n",
      "python/notebooks/pycovid/__pycache__/pycovidfunc.cpython-37.pyc\n",
      "python/notebooks/pycovid/pycovidfunc.py\n"
     ]
    }
   ],
   "source": [
    "print(repo.git.diff(None, name_only=True))"
   ]
  },
  {
   "cell_type": "code",
   "execution_count": 8,
   "metadata": {},
   "outputs": [
    {
     "name": "stdout",
     "output_type": "stream",
     "text": [
      "Commit process succesfull\n"
     ]
    }
   ],
   "source": [
    "cv.commit_to_repo(repo)"
   ]
  },
  {
   "cell_type": "code",
   "execution_count": 8,
   "metadata": {},
   "outputs": [
    {
     "name": "stdout",
     "output_type": "stream",
     "text": [
      "Repo at None successfully loaded.\n",
      "Repo local path: C:\\Users\\user\\Documents\\GitHub\\COVID-19\n",
      "Repo description: covid19 data analysis git project\n",
      "Repo active branch: master\n",
      "Remote named \"origin\" with URL \"https://github.com/psychopresley/COVID-19.git\"\n",
      "Remote named \"upstream\" with URL \"https://github.com/CSSEGISandData/COVID-19.git\"\n",
      "Last commit for repo: ef46dd068722aa688268f13ccc908cd22c033a60.\n",
      "----\n",
      "commit: ef46dd068722aa688268f13ccc908cd22c033a60\n",
      "\"Merge branch 'master' of https://github.com/CSSEGISandData/COVID-19\" by psychopresley (psychopresley@gmail.com)\n",
      "2020-07-17 16:08:39-03:00\n",
      "count: 1361 and size: 342\n"
     ]
    }
   ],
   "source": [
    "cv.repo_info(repo)"
   ]
  },
  {
   "cell_type": "code",
   "execution_count": 5,
   "metadata": {},
   "outputs": [],
   "source": [
    "headcommit = repo.head.commit"
   ]
  },
  {
   "cell_type": "code",
   "execution_count": 10,
   "metadata": {},
   "outputs": [],
   "source": [
    "message = None"
   ]
  },
  {
   "cell_type": "code",
   "execution_count": 13,
   "metadata": {},
   "outputs": [
    {
     "data": {
      "text/plain": [
       "True"
      ]
     },
     "execution_count": 13,
     "metadata": {},
     "output_type": "execute_result"
    }
   ],
   "source": [
    "message == None"
   ]
  },
  {
   "cell_type": "code",
   "execution_count": null,
   "metadata": {},
   "outputs": [],
   "source": []
  }
 ],
 "metadata": {
  "kernelspec": {
   "display_name": "Python 3",
   "language": "python",
   "name": "python3"
  },
  "language_info": {
   "codemirror_mode": {
    "name": "ipython",
    "version": 3
   },
   "file_extension": ".py",
   "mimetype": "text/x-python",
   "name": "python",
   "nbconvert_exporter": "python",
   "pygments_lexer": "ipython3",
   "version": "3.7.6"
  }
 },
 "nbformat": 4,
 "nbformat_minor": 4
}
