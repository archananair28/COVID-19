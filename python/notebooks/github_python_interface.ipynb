{
 "cells": [
  {
   "cell_type": "markdown",
   "metadata": {},
   "source": [
    "# GIT PYTHON"
   ]
  },
  {
   "cell_type": "code",
   "execution_count": 1,
   "metadata": {},
   "outputs": [],
   "source": [
    "import os\n",
    "import sys\n",
    "\n",
    "# Download and extract a portable git\n",
    "git_dir = r\"C:\\Program Files\\Git\\cmd\"\n",
    "git_bin = os.path.join(git_dir, \"git\")\n",
    "\n",
    "os.putenv(\"GIT_PYTHON_GIT_EXECUTABLE\", git_bin)\n",
    "os.environ.putenv(\"GIT_PYTHON_GIT_EXECUTABLE\", git_bin)\n",
    "\n",
    "# Making sure that it is first in PATH\n",
    "sys.path = [git_dir] + sys.path\n",
    "os.environ[\"PATH\"] = os.pathsep.join([git_dir]) + os.pathsep + os.environ[\"PATH\"]\n",
    "\n",
    "# Only import git now, because that's when the path is checked!\n",
    "import git"
   ]
  },
  {
   "cell_type": "code",
   "execution_count": 4,
   "metadata": {},
   "outputs": [],
   "source": [
    "# rorepo is a Repo instance pointing to the git-python repository.\n",
    "# For all you know, the first argument to Repo is a path to the repository\n",
    "# you want to work with\n",
    "\n",
    "psychopresley_covid_head = r\"C:\\Users\\user\\Documents\\GitHub\\COVID-19\"\n",
    "repo = git.Repo(psychopresley_covid_head)"
   ]
  },
  {
   "cell_type": "code",
   "execution_count": 21,
   "metadata": {},
   "outputs": [
    {
     "data": {
      "text/plain": [
       "['python/backup/notebooks/.ipynb_checkpoints/raw_data-checkpoint.ipynb',\n",
       " 'python/backup/notebooks/Covid19.ipynb',\n",
       " 'python/backup/notebooks/config.csv',\n",
       " 'python/backup/notebooks/github_python_interface.ipynb',\n",
       " 'python/backup/notebooks/pycovid/__pycache__/pycovidfunc.cpython-37.pyc',\n",
       " 'python/backup/notebooks/pycovid/_init__.py',\n",
       " 'python/backup/notebooks/pycovid/pycovidfunc.py',\n",
       " 'python/backup/notebooks/raw_data.ipynb',\n",
       " 'python/backup/scripts/config.csv',\n",
       " 'python/backup/scripts/pycovid/__pycache__/pycovidfunc.cpython-37.pyc',\n",
       " 'python/backup/scripts/pycovid/_init__.py',\n",
       " 'python/backup/scripts/pycovid/pycovidfunc.py',\n",
       " 'python/notebooks/.ipynb_checkpoints/github_python_interface-checkpoint.ipynb',\n",
       " 'python/scripts/pycovid/__pycache__/pycovidfunc.cpython-37.pyc',\n",
       " 'python/scripts/pycovid/_init__.py',\n",
       " 'python/scripts/pycovid/pycovidfunc.py']"
      ]
     },
     "execution_count": 21,
     "metadata": {},
     "output_type": "execute_result"
    }
   ],
   "source": [
    "repo.is_dirty()  # check the dirty state\n",
    "repo.untracked_files        # retrieve a list of untracked files"
   ]
  },
  {
   "cell_type": "code",
   "execution_count": 24,
   "metadata": {},
   "outputs": [
    {
     "data": {
      "text/plain": [
       "<git.Head \"refs/heads/master\">"
      ]
     },
     "execution_count": 24,
     "metadata": {},
     "output_type": "execute_result"
    }
   ],
   "source": [
    "repo.active_branch"
   ]
  },
  {
   "cell_type": "code",
   "execution_count": 79,
   "metadata": {
    "scrolled": true
   },
   "outputs": [
    {
     "data": {
      "text/plain": [
       "[<git.Head \"refs/heads/master\">,\n",
       " <git.RemoteReference \"refs/remotes/origin/2815-Update-Ohio-Jul-2\">,\n",
       " <git.RemoteReference \"refs/remotes/origin/2827-Update-Brazil-Deaths-Jul-3\">,\n",
       " <git.RemoteReference \"refs/remotes/origin/2829-Harris-TX\">,\n",
       " <git.RemoteReference \"refs/remotes/origin/CSSEGISandData-patch-02042020\">,\n",
       " <git.RemoteReference \"refs/remotes/origin/Fix-Global-Deaths\">,\n",
       " <git.RemoteReference \"refs/remotes/origin/HEAD\">,\n",
       " <git.RemoteReference \"refs/remotes/origin/IL-fix-issue2815\">,\n",
       " <git.RemoteReference \"refs/remotes/origin/master\">,\n",
       " <git.RemoteReference \"refs/remotes/origin/web-data\">,\n",
       " <git.RemoteReference \"refs/remotes/upstream/2815-Update-Ohio-Jul-2\">,\n",
       " <git.RemoteReference \"refs/remotes/upstream/CSSEGISandData-patch-02042020\">,\n",
       " <git.RemoteReference \"refs/remotes/upstream/IL-fix-issue2815\">,\n",
       " <git.RemoteReference \"refs/remotes/upstream/master\">,\n",
       " <git.RemoteReference \"refs/remotes/upstream/web-data\">]"
      ]
     },
     "execution_count": 79,
     "metadata": {},
     "output_type": "execute_result"
    }
   ],
   "source": [
    "repo.references"
   ]
  },
  {
   "cell_type": "code",
   "execution_count": 255,
   "metadata": {},
   "outputs": [],
   "source": [
    "upstream = repo.remotes.upstream"
   ]
  },
  {
   "cell_type": "code",
   "execution_count": 203,
   "metadata": {},
   "outputs": [
    {
     "data": {
      "text/plain": [
       "<git.Remote \"upstream\">"
      ]
     },
     "execution_count": 203,
     "metadata": {},
     "output_type": "execute_result"
    }
   ],
   "source": [
    "upstream.add_url('https://github.com/CSSEGISandData/COVID-19.git')"
   ]
  },
  {
   "cell_type": "code",
   "execution_count": 283,
   "metadata": {},
   "outputs": [
    {
     "data": {
      "text/plain": [
       "\"Merge made by the 'recursive' strategy.\\n README.md                                          |    1 +\\n .../csse_covid_19_daily_reports/04-27-2020.csv     |    2 +-\\n .../csse_covid_19_daily_reports_us/04-27-2020.csv  |    2 +-\\n .../csse_covid_19_time_series/Errata.csv           |    5 +\\n .../time_series_covid19_confirmed_US.csv           | 6524 ++++++++++----------\\n .../time_series_covid19_confirmed_global.csv       |  534 +-\\n 6 files changed, 3537 insertions(+), 3531 deletions(-)\""
      ]
     },
     "execution_count": 283,
     "metadata": {},
     "output_type": "execute_result"
    }
   ],
   "source": [
    "g = git.Git(upstream)\n",
    "g.pull('upstream','master')"
   ]
  },
  {
   "cell_type": "code",
   "execution_count": 282,
   "metadata": {},
   "outputs": [
    {
     "data": {
      "text/plain": [
       "git.remote.FetchInfo"
      ]
     },
     "execution_count": 282,
     "metadata": {},
     "output_type": "execute_result"
    }
   ],
   "source": []
  },
  {
   "cell_type": "code",
   "execution_count": 289,
   "metadata": {},
   "outputs": [],
   "source": [
    "c=repo.commit()"
   ]
  },
  {
   "cell_type": "code",
   "execution_count": 291,
   "metadata": {},
   "outputs": [
    {
     "data": {
      "text/plain": [
       "<bound method Repo.merge_base of <git.repo.base.Repo 'C:\\\\Users\\\\user\\\\Documents\\\\GitHub\\\\COVID-19\\\\.git'>>"
      ]
     },
     "execution_count": 291,
     "metadata": {},
     "output_type": "execute_result"
    }
   ],
   "source": []
  },
  {
   "cell_type": "code",
   "execution_count": null,
   "metadata": {},
   "outputs": [],
   "source": []
  }
 ],
 "metadata": {
  "kernelspec": {
   "display_name": "Python 3",
   "language": "python",
   "name": "python3"
  },
  "language_info": {
   "codemirror_mode": {
    "name": "ipython",
    "version": 3
   },
   "file_extension": ".py",
   "mimetype": "text/x-python",
   "name": "python",
   "nbconvert_exporter": "python",
   "pygments_lexer": "ipython3",
   "version": "3.7.6"
  }
 },
 "nbformat": 4,
 "nbformat_minor": 4
}
