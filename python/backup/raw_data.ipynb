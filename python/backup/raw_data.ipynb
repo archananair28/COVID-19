{
 "cells": [
  {
   "cell_type": "code",
   "execution_count": 3,
   "metadata": {},
   "outputs": [],
   "source": [
    "import os\n",
    "import pandas as pd\n",
    "from datetime import datetime, timedelta"
   ]
  },
  {
   "cell_type": "code",
   "execution_count": 2,
   "metadata": {},
   "outputs": [],
   "source": [
    "def raw_data_formatter(file_list,file_dir):\n",
    "    df = pd.DataFrame()\n",
    "\n",
    "    for arquivo in file_list:\n",
    "        file = os.path.join(file_dir, arquivo)\n",
    "        date=datetime.strptime(arquivo.split(sep='.')[0],'%m-%d-%Y')\n",
    "        df_arquivo = pd.read_csv(file)\n",
    "        df_arquivo['Date'] = date\n",
    "        df = pd.concat([df,df_arquivo])\n",
    "        \n",
    "    # Merging the data from columns with same content but different headers:\n",
    "    Country = df.Country_Region\n",
    "    Province = df.Province_State\n",
    "    Last_Update = df.Last_Update\n",
    "    Latitude = df.Lat\n",
    "    Longitude = df.Long_\n",
    "\n",
    "    df_aux = pd.DataFrame({'Country/Region': Country,'Province/State': Province,'Last Update': Last_Update,'Latitude': Latitude,\n",
    "                           'Longitude': Longitude})\n",
    "    df = df.combine_first(df_aux)\n",
    "\n",
    "    # Dropping columns that won't be used:\n",
    "    df.drop(axis=1,labels=['Country_Region','Province_State','Last_Update','FIPS',\n",
    "                           'Combined_Key','Long_','Lat','Admin2','Case-Fatality_Ratio',\n",
    "                           'Incidence_Rate'],inplace=True)\n",
    "\n",
    "    # Formatting datetime columns:\n",
    "    df['Last Update'] = pd.to_datetime(df['Last Update'])\n",
    "\n",
    "    # Replacing NaN values on numeric data with 0:\n",
    "    new_values = {'Deaths': 0, 'Active': 0, 'Recovered': 0, 'Confirmed': 0, 'Latitude': 0, 'Longitude': 0}\n",
    "    df.fillna(value=new_values,inplace=True)\n",
    "\n",
    "    # Replacing NaN values on non numeric data with '-':\n",
    "    df.fillna(value='-',inplace=True)\n",
    "\n",
    "    # Adding date columns:\n",
    "    df['Year'] = pd.DatetimeIndex(df['Date']).year\n",
    "    df['Month'] = pd.to_datetime(df['Date']).dt.strftime('%b')\n",
    "    df['Week'] = pd.DatetimeIndex(df['Date']).week\n",
    "    df['Day'] = pd.DatetimeIndex(df['Date']).day\n",
    "\n",
    "    # Establishing number of active cases as the difference between Confirmed cases and Death cases:\n",
    "    df['Active'] = df['Confirmed'] - df['Deaths'] - df['Recovered']\n",
    "\n",
    "    # Calculating Mortality rate as the ratio between Deaths and Confirmed cases for each day:\n",
    "    df['Mortality rate in %'] = (df['Deaths']/df['Confirmed']*100).fillna(value=0)\n",
    "    \n",
    "    return df"
   ]
  },
  {
   "cell_type": "code",
   "execution_count": 3,
   "metadata": {},
   "outputs": [],
   "source": [
    "cwd = os.getcwd()\n",
    "who_data_dir = r\"csse_covid_19_data\\csse_covid_19_daily_reports\"\n",
    "raw_data_dir = cwd\n",
    "\n",
    "# Read the data update information file to check\n",
    "# for the last update:\n",
    "\n",
    "update_info = pd.read_csv(os.path.join(raw_data_dir,'raw_data_info.csv'))\n",
    "last_update = pd.to_datetime(update_info.last_update.values[0])\n",
    "\n",
    "# Read the data files in the WHO Github directory:\n",
    "\n",
    "who_file_list = os.listdir(os.path.join(cwd,who_data_dir))\n",
    "\n",
    "for file in who_file_list:\n",
    "    if not file.endswith('.csv'):\n",
    "        who_file_list.remove(file)\n",
    "\n",
    "# Now compares the latest WHO file to the raw data update information\n",
    "# and generates a boolean value for wether they match or not:\n",
    "\n",
    "latest_who_file_date = pd.to_datetime(who_file_list[-1].split(sep='.')[0])\n",
    "files_to_update = (latest_who_file_date - last_update).days\n",
    "\n",
    "if files_to_update != 0:\n",
    "    list_of_new_files = []\n",
    "    for i in list(range(1,files_to_update + 1)):\n",
    "        new_date = datetime.strftime((last_update\n",
    "                                      + timedelta(days=i)).date(), format='%m-%d-%Y')\n",
    "        list_of_new_files.append(new_date + '.csv')\n",
    "    \n",
    "    # Generating a dataframe with new information:\n",
    "    df = raw_data_formatter(list_of_new_files,who_data_dir)\n",
    "    \n",
    "    # Appending the new data to existing raw data file and updating\n",
    "    # the raw data info file:\n",
    "    df.to_csv('raw_data.csv', mode='a', index=False, header=None)\n",
    "    update_info.last_update = new_date\n",
    "    update_info.to_csv('raw_data_info.csv', index=False)"
   ]
  },
  {
   "cell_type": "code",
   "execution_count": 10,
   "metadata": {},
   "outputs": [],
   "source": [
    "df=pd.DataFrame({'file':['raw_data','raw_data_info','who_data'],\n",
    "                 'path':[r\"C:\\Users\\user\\Documents\\GitHub\\COVID-19\\notebooks\\raw_data.csv\",\n",
    "                         r\"C:\\Users\\user\\Documents\\GitHub\\COVID-19\\notebooks\\raw_data_info.csv\",\n",
    "                         r\"C:\\Users\\user\\Documents\\GitHub\\COVID-19\\csse_covid_19_data\\csse_covid_19_daily_reports\"]})"
   ]
  },
  {
   "cell_type": "code",
   "execution_count": 2,
   "metadata": {},
   "outputs": [
    {
     "ename": "NameError",
     "evalue": "name 'df' is not defined",
     "output_type": "error",
     "traceback": [
      "\u001b[1;31m---------------------------------------------------------------------------\u001b[0m",
      "\u001b[1;31mNameError\u001b[0m                                 Traceback (most recent call last)",
      "\u001b[1;32m<ipython-input-2-81fcfe53435d>\u001b[0m in \u001b[0;36m<module>\u001b[1;34m\u001b[0m\n\u001b[1;32m----> 1\u001b[1;33m \u001b[0mdf\u001b[0m\u001b[1;33m.\u001b[0m\u001b[0mto_csv\u001b[0m\u001b[1;33m(\u001b[0m\u001b[1;34m'file_path.csv'\u001b[0m\u001b[1;33m,\u001b[0m\u001b[0mindex\u001b[0m\u001b[1;33m=\u001b[0m\u001b[1;32mFalse\u001b[0m\u001b[1;33m)\u001b[0m\u001b[1;33m\u001b[0m\u001b[1;33m\u001b[0m\u001b[0m\n\u001b[0m",
      "\u001b[1;31mNameError\u001b[0m: name 'df' is not defined"
     ]
    }
   ],
   "source": [
    "df.to_csv('file_path.csv',index=False)"
   ]
  },
  {
   "cell_type": "code",
   "execution_count": 11,
   "metadata": {},
   "outputs": [],
   "source": [
    "df = pd.read_csv('config.csv',index_col='var').fillna('-')"
   ]
  },
  {
   "cell_type": "code",
   "execution_count": 12,
   "metadata": {},
   "outputs": [
    {
     "data": {
      "text/html": [
       "<div>\n",
       "<style scoped>\n",
       "    .dataframe tbody tr th:only-of-type {\n",
       "        vertical-align: middle;\n",
       "    }\n",
       "\n",
       "    .dataframe tbody tr th {\n",
       "        vertical-align: top;\n",
       "    }\n",
       "\n",
       "    .dataframe thead th {\n",
       "        text-align: right;\n",
       "    }\n",
       "</style>\n",
       "<table border=\"1\" class=\"dataframe\">\n",
       "  <thead>\n",
       "    <tr style=\"text-align: right;\">\n",
       "      <th></th>\n",
       "      <th>path</th>\n",
       "      <th>last_update</th>\n",
       "    </tr>\n",
       "    <tr>\n",
       "      <th>var</th>\n",
       "      <th></th>\n",
       "      <th></th>\n",
       "    </tr>\n",
       "  </thead>\n",
       "  <tbody>\n",
       "    <tr>\n",
       "      <th>raw_data</th>\n",
       "      <td>C:\\Users\\user\\Documents\\GitHub\\COVID-19\\notebo...</td>\n",
       "      <td>07-13-2020</td>\n",
       "    </tr>\n",
       "    <tr>\n",
       "      <th>who_data_dir</th>\n",
       "      <td>C:\\Users\\user\\Documents\\GitHub\\COVID-19\\csse_c...</td>\n",
       "      <td>-</td>\n",
       "    </tr>\n",
       "  </tbody>\n",
       "</table>\n",
       "</div>"
      ],
      "text/plain": [
       "                                                           path last_update\n",
       "var                                                                        \n",
       "raw_data      C:\\Users\\user\\Documents\\GitHub\\COVID-19\\notebo...  07-13-2020\n",
       "who_data_dir  C:\\Users\\user\\Documents\\GitHub\\COVID-19\\csse_c...           -"
      ]
     },
     "execution_count": 12,
     "metadata": {},
     "output_type": "execute_result"
    }
   ],
   "source": [
    "df"
   ]
  },
  {
   "cell_type": "code",
   "execution_count": 33,
   "metadata": {},
   "outputs": [
    {
     "data": {
      "text/plain": [
       "'C:\\\\Users\\\\user\\\\Documents\\\\GitHub\\\\COVID-19\\\\csse_covid_19_data\\\\csse_covid_19_daily_reports\\\\07-09-2020.csv'"
      ]
     },
     "execution_count": 33,
     "metadata": {},
     "output_type": "execute_result"
    }
   ],
   "source": [
    "os.path.join(df.loc['who_data_dir'].path,'07-09-2020.csv')"
   ]
  },
  {
   "cell_type": "code",
   "execution_count": null,
   "metadata": {},
   "outputs": [],
   "source": []
  }
 ],
 "metadata": {
  "kernelspec": {
   "display_name": "Python 3",
   "language": "python",
   "name": "python3"
  },
  "language_info": {
   "codemirror_mode": {
    "name": "ipython",
    "version": 3
   },
   "file_extension": ".py",
   "mimetype": "text/x-python",
   "name": "python",
   "nbconvert_exporter": "python",
   "pygments_lexer": "ipython3",
   "version": "3.7.6"
  }
 },
 "nbformat": 4,
 "nbformat_minor": 4
}
