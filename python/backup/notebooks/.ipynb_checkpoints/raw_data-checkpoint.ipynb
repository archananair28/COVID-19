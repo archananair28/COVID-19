{
 "cells": [
  {
   "cell_type": "code",
   "execution_count": 1,
   "metadata": {},
   "outputs": [],
   "source": [
    "import pandas as pd\n",
    "from os import listdir, getcwd\n",
    "from datetime import datetime, timedelta\n",
    "from pycovid import pycovidfunc as cv"
   ]
  },
  {
   "cell_type": "code",
   "execution_count": 2,
   "metadata": {},
   "outputs": [
    {
     "name": "stdout",
     "output_type": "stream",
     "text": [
      "0 new files found. No further action necessary\n"
     ]
    }
   ],
   "source": [
    "# Read the config file to check for data file information:\n",
    "\n",
    "if 'config.csv' in listdir(getcwd()):\n",
    "    config = pd.read_csv('config.csv',index_col='var').fillna('-')\n",
    "else:\n",
    "    raise FileNotFoundError('No configuration file \"config.csv\" found.')\n",
    "    \n",
    "last_update = pd.to_datetime(config.loc['raw_data'].last_update)\n",
    "who_data_dir = config.loc['who_data_dir'].path\n",
    "who_file_list = listdir(who_data_dir)\n",
    "\n",
    "for file in who_file_list:\n",
    "    if not file.endswith('.csv'):\n",
    "        who_file_list.remove(file)\n",
    "\n",
    "# Compare the latest WHO file to the raw data update information\n",
    "# and calculates the number of files to update:\n",
    "\n",
    "latest_who_file_date = pd.to_datetime(who_file_list[-1].split(sep='.')[0])\n",
    "files_to_update = (latest_who_file_date - last_update).days\n",
    "\n",
    "# Generating the list of new files to update the database\n",
    "if files_to_update != 0:\n",
    "    list_of_new_files = []\n",
    "    for i in list(range(1,files_to_update + 1)):\n",
    "        new_date = datetime.strftime((last_update\n",
    "                                      + timedelta(days=i)).date(),\n",
    "                                      format='%m-%d-%Y')\n",
    "        list_of_new_files.append(new_date + '.csv')\n",
    "    \n",
    "    # Generating a dataframe with new information:\n",
    "    df = cv.raw_data_formatter(list_of_new_files,who_data_dir)\n",
    "    \n",
    "    # Appending the new data to existing raw data file and updating\n",
    "    # the raw data information in the config file:\n",
    "    \n",
    "    raw_data_path = config.loc['raw_data'].path\n",
    "    config.loc['raw_data'].last_update = new_date\n",
    "    \n",
    "    df.to_csv(raw_data_path, mode='a', index=False, header=None)\n",
    "    config.to_csv('config.csv')\n",
    "    print('%d new files found. All files appended into the raw data file' \n",
    "          % (files_to_update))\n",
    "\n",
    "else:\n",
    "    print('0 new files found. No further action necessary')"
   ]
  },
  {
   "cell_type": "code",
   "execution_count": null,
   "metadata": {},
   "outputs": [],
   "source": []
  }
 ],
 "metadata": {
  "kernelspec": {
   "display_name": "Python 3",
   "language": "python",
   "name": "python3"
  },
  "language_info": {
   "codemirror_mode": {
    "name": "ipython",
    "version": 3
   },
   "file_extension": ".py",
   "mimetype": "text/x-python",
   "name": "python",
   "nbconvert_exporter": "python",
   "pygments_lexer": "ipython3",
   "version": "3.7.6"
  }
 },
 "nbformat": 4,
 "nbformat_minor": 4
}
