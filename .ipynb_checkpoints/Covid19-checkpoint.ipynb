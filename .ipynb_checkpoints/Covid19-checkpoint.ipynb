{
 "cells": [
  {
   "cell_type": "code",
   "execution_count": 1,
   "metadata": {},
   "outputs": [],
   "source": [
    "import pandas as pd\n",
    "from datetime import datetime\n",
    "from os import listdir, path"
   ]
  },
  {
   "cell_type": "code",
   "execution_count": 2,
   "metadata": {},
   "outputs": [],
   "source": [
    "pd.options.display.max_columns = None\n",
    "pd.options.display.max_rows = None"
   ]
  },
  {
   "cell_type": "markdown",
   "metadata": {},
   "source": [
    "# 1 - Importing the data files from the John Hopkins database"
   ]
  },
  {
   "cell_type": "code",
   "execution_count": 3,
   "metadata": {},
   "outputs": [],
   "source": [
    "file_dir = r\"C:\\Users\\user\\Documents\\GitHub\\COVID-19\\csse_covid_19_data\\csse_covid_19_daily_reports\"\n",
    "file_list = listdir(file_dir)\n",
    "\n",
    "df = pd.DataFrame()\n",
    "\n",
    "for arquivo in file_list:\n",
    "    if arquivo.endswith('csv'):\n",
    "        file = path.join(file_dir, arquivo)\n",
    "        date=datetime.strptime(arquivo.split(sep='.')[0],'%m-%d-%Y')\n",
    "        df_arquivo = pd.read_csv(file)\n",
    "        df_arquivo['Date']=date\n",
    "        df = pd.concat([df,df_arquivo])"
   ]
  },
  {
   "cell_type": "markdown",
   "metadata": {},
   "source": [
    "# 2 - Formatting the Dataframe"
   ]
  },
  {
   "cell_type": "code",
   "execution_count": 6,
   "metadata": {},
   "outputs": [],
   "source": [
    "#1 Checkpoint\n",
    "df_geral = df.copy()"
   ]
  },
  {
   "cell_type": "code",
   "execution_count": 7,
   "metadata": {},
   "outputs": [],
   "source": [
    "# Merging the data from columns with same content but different headers:\n",
    "Country = df_geral.Country_Region\n",
    "Province = df_geral.Province_State\n",
    "Last_Update = df_geral.Last_Update\n",
    "Latitude = df_geral.Lat\n",
    "Longitude = df_geral.Long_\n",
    "\n",
    "df_aux = pd.DataFrame({'Country/Region': Country,'Province/State': Province,'Last Update': Last_Update,'Latitude': Latitude,\n",
    "                       'Longitude': Longitude})\n",
    "df_geral = df_geral.combine_first(df_aux)\n",
    "\n",
    "# Dropping columns that won't be used:\n",
    "df_geral.drop(axis=1,labels=['Country_Region','Province_State','Last_Update','FIPS',\n",
    "                             'Combined_Key','Long_','Lat','Admin2','Case-Fatality_Ratio',\n",
    "                             'Incidence_Rate'],inplace=True)\n",
    "\n",
    "# Formatting datetime columns:\n",
    "df_geral['Last Update'] = pd.to_datetime(df_geral['Last Update'])\n",
    "\n",
    "# Replacing NaN values on numeric data with 0:\n",
    "new_values = {'Deaths': 0, 'Active': 0, 'Recovered': 0, 'Confirmed': 0, 'Latitude': 0, 'Longitude': 0}\n",
    "df_geral.fillna(value=new_values,inplace=True)\n",
    "\n",
    "# Replacing NaN values on non numeric data with '-':\n",
    "df_geral.fillna(value='-',inplace=True)\n",
    "\n",
    "# Adding date columns:\n",
    "#df_geral['Date'] = pd.DatetimeIndex(df_geral['Last Update']).date\n",
    "df_geral['Year'] = pd.DatetimeIndex(df_geral['Date']).year\n",
    "\n",
    "df_geral['Month'] = pd.to_datetime(df_geral['Date']).dt.strftime('%b')\n",
    "\n",
    "df_geral['Week'] = pd.DatetimeIndex(df_geral['Date']).week\n",
    "df_geral['Day'] = pd.DatetimeIndex(df_geral['Date']).day\n",
    "\n",
    "\n",
    "# Establishing number of active cases as the difference between Confirmed cases and Death cases:\n",
    "df_geral['Active'] = df_geral['Confirmed'] - df_geral['Deaths'] - df_geral['Recovered']\n",
    "\n",
    "# Calculating Mortality rate as the ratio between Deaths and Confirmed cases for each day:\n",
    "df_geral['Mortality rate in %'] = df_geral['Deaths']/df_geral['Confirmed']*100"
   ]
  },
  {
   "cell_type": "code",
   "execution_count": null,
   "metadata": {},
   "outputs": [],
   "source": [
    "df_geral.to_excel('raw_data.xlsx',sheet_name='raw data', index=False)"
   ]
  },
  {
   "cell_type": "markdown",
   "metadata": {},
   "source": [
    "# 3 - Adding columns of calculated data"
   ]
  },
  {
   "cell_type": "code",
   "execution_count": 9,
   "metadata": {},
   "outputs": [],
   "source": [
    "#2 Checkpoint\n",
    "df_formatted = df_geral.copy()"
   ]
  },
  {
   "cell_type": "code",
   "execution_count": 10,
   "metadata": {},
   "outputs": [],
   "source": [
    "# Formatting dataframe for further calculations:\n",
    "root_columns = ['Confirmed','Deaths','Recovered','Active']       # columns over which the calculations will be performed\n",
    "sort_columns = ['Country/Region','Province/State','Date']        # order for sorting columns\n",
    "MA = [3,7,15]                                                    # Moving Average intervals for computation\n",
    "\n",
    "# pre-formatting frame:\n",
    "group = ['Country/Region','Province/State','Month','Week','Day']\n",
    "df_formatted = df_formatted.groupby(group).max().sort_values(by=sort_columns,axis=0)\n",
    "\n",
    "# creating columns of daily percentage of increase in values:\n",
    "for col in root_columns:\n",
    "    daily_inc = col + \"_daily_%inc\"\n",
    "    df_formatted[daily_inc] = df_formatted[col].pct_change().fillna(value=0)*100\n",
    "\n",
    "# creating columns of moving average in root columns values:\n",
    "group = ['Country/Region','Province/State']\n",
    "for col in root_columns:\n",
    "    for interval in MA:\n",
    "        interval_col_name = col + \"_\" + str(interval) + \"d_MA\"\n",
    "        df_formatted[interval_col_name] = df_formatted.groupby(group).rolling(interval)[col].mean().droplevel(level=[0,1]).fillna(method='bfill')\n",
    "\n",
    "# Calculating the number of days since the 1st case:\n",
    "df_formatted['Days_since_1st_case'] = pd.to_datetime(df_formatted.groupby(['Country/Region','Province/State'])['Date'].first())\n",
    "df_formatted['Days_since_1st_case'] = (df_formatted['Date'] - df_formatted['Days_since_1st_case']).dt.days\n",
    "\n",
    "\n",
    "# Calculating 1st and 2nd derivatives for root_columns:\n",
    "\n",
    "# Since the derivative of a function is subject to noise the calculation will be performed over \n",
    "# the mean data (taking the minimum interval) in order to minimize the noise influence\n",
    "\n",
    "interval = str(min(MA)) # The value of the minimum interval\n",
    "for col in root_columns:\n",
    "    column_name_first = col + '_1st_derivative'\n",
    "    column_name_second = col + '_2nd_derivative'\n",
    "    column_data = col + '_' + interval + \"d_MA\"\n",
    "    df_formatted[column_name_first] = (df_formatted[column_data] - df_formatted[column_data].shift(periods=1)).fillna(method='bfill')\n",
    "    df_formatted[column_name_second] = (df_formatted[column_name_first] - df_formatted[column_name_first].shift(periods=1)).fillna(method='bfill')"
   ]
  },
  {
   "cell_type": "code",
   "execution_count": 18,
   "metadata": {},
   "outputs": [],
   "source": [
    "df_formatted.to_excel('formatted_data.xlsx')"
   ]
  },
  {
   "cell_type": "markdown",
   "metadata": {},
   "source": [
    "# 4 - Ordering & Sorting the DataFrame columns"
   ]
  },
  {
   "cell_type": "code",
   "execution_count": 31,
   "metadata": {},
   "outputs": [],
   "source": [
    "columns = ['Date', 'Country/Region', 'Province/State', 'Latitude', 'Longitude',\n",
    "           'Confirmed', 'Deaths', 'Recovered', 'Active','Year', 'Month', 'Week',\n",
    "           'Day','Last Update']\n",
    "\n",
    "df_formatted = df_formatted[columns]"
   ]
  },
  {
   "cell_type": "markdown",
   "metadata": {},
   "source": [
    "# 5 - Writing dataframe into external file "
   ]
  },
  {
   "cell_type": "code",
   "execution_count": 9,
   "metadata": {},
   "outputs": [
    {
     "data": {
      "text/plain": [
       "2091565"
      ]
     },
     "execution_count": 9,
     "metadata": {},
     "output_type": "execute_result"
    }
   ],
   "source": [
    "df_formatted.size"
   ]
  }
 ],
 "metadata": {
  "kernelspec": {
   "display_name": "Python 3",
   "language": "python",
   "name": "python3"
  },
  "language_info": {
   "codemirror_mode": {
    "name": "ipython",
    "version": 3
   },
   "file_extension": ".py",
   "mimetype": "text/x-python",
   "name": "python",
   "nbconvert_exporter": "python",
   "pygments_lexer": "ipython3",
   "version": "3.7.6"
  }
 },
 "nbformat": 4,
 "nbformat_minor": 4
}
