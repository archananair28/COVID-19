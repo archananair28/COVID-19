{
 "cells": [
  {
   "cell_type": "code",
   "execution_count": 1,
   "metadata": {},
   "outputs": [],
   "source": [
    "from pandas import DataFrame, concat, read_csv\n",
    "from os import listdir, path\n",
    "from datetime import datetime"
   ]
  },
  {
   "cell_type": "code",
   "execution_count": 47,
   "metadata": {},
   "outputs": [],
   "source": [
    "who_data_dir = r\"C:\\Users\\user\\Documents\\GitHub\\COVID-19\\csse_covid_19_data\\csse_covid_19_daily_reports\"\n",
    "raw_data_dir = r\"C:\\Users\\user\\Documents\\Covid19\"\n",
    "\n",
    "# Read the data update information file to check\n",
    "# for the last update:\n",
    "\n",
    "update_info = read_csv(path.join(raw_data_dir,'raw_data_info.txt'))\n",
    "last_update = update_info.last_update.values[0]\n",
    "\n",
    "# Read the data files in the WHO Github directory:\n",
    "\n",
    "who_file_list = listdir(who_data_dir)\n",
    "\n",
    "for file in who_file_list:\n",
    "    if not file.endswith('.csv'):\n",
    "        who_file_list.remove(file)\n",
    "\n",
    "# Now compares the latest WHO file to the raw data update information\n",
    "# and generates a boolean value for wether they match or not:\n",
    "\n",
    "latest_who_file = who_file_list[-1].split(sep='.')[0]\n",
    "data_file_updated = latest_who_file == last_update"
   ]
  },
  {
   "cell_type": "code",
   "execution_count": 48,
   "metadata": {},
   "outputs": [
    {
     "data": {
      "text/plain": [
       "True"
      ]
     },
     "execution_count": 48,
     "metadata": {},
     "output_type": "execute_result"
    }
   ],
   "source": [
    "data_file_updated"
   ]
  },
  {
   "cell_type": "code",
   "execution_count": null,
   "metadata": {},
   "outputs": [],
   "source": []
  },
  {
   "cell_type": "code",
   "execution_count": null,
   "metadata": {},
   "outputs": [],
   "source": [
    "df = DataFrame()\n",
    "\n",
    "for arquivo in file_list:\n",
    "    if arquivo.endswith('csv'):\n",
    "        file = path.join(file_dir, arquivo)\n",
    "        date=datetime.strptime(arquivo.split(sep='.')[0],'%m-%d-%Y')\n",
    "        df_arquivo = pd.read_csv(file)\n",
    "        df_arquivo['Date']=date\n",
    "        df = pd.concat([df,df_arquivo])"
   ]
  }
 ],
 "metadata": {
  "kernelspec": {
   "display_name": "Python 3",
   "language": "python",
   "name": "python3"
  },
  "language_info": {
   "codemirror_mode": {
    "name": "ipython",
    "version": 3
   },
   "file_extension": ".py",
   "mimetype": "text/x-python",
   "name": "python",
   "nbconvert_exporter": "python",
   "pygments_lexer": "ipython3",
   "version": "3.7.6"
  }
 },
 "nbformat": 4,
 "nbformat_minor": 4
}
