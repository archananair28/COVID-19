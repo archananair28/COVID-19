{
 "cells": [
  {
   "cell_type": "code",
   "execution_count": 1,
   "metadata": {},
   "outputs": [],
   "source": [
    "import pandas as pd\n",
    "from datetime import datetime\n",
    "from os import listdir, path"
   ]
  },
  {
   "cell_type": "code",
   "execution_count": 2,
   "metadata": {},
   "outputs": [],
   "source": [
    "pd.options.display.max_columns = None\n",
    "pd.options.display.max_rows = None"
   ]
  },
  {
   "cell_type": "markdown",
   "metadata": {},
   "source": [
    "# 1 - Adding columns of calculated data"
   ]
  },
  {
   "cell_type": "code",
   "execution_count": 9,
   "metadata": {},
   "outputs": [],
   "source": [
    "#2 Checkpoint\n",
    "df_formatted = df_geral.copy()"
   ]
  },
  {
   "cell_type": "code",
   "execution_count": 10,
   "metadata": {},
   "outputs": [],
   "source": [
    "# Formatting dataframe for further calculations:\n",
    "root_columns = ['Confirmed','Deaths','Recovered','Active']       # columns over which the calculations will be performed\n",
    "sort_columns = ['Country/Region','Province/State','Date']        # order for sorting columns\n",
    "MA = [3,7,15]                                                    # Moving Average intervals for computation\n",
    "\n",
    "# pre-formatting frame:\n",
    "group = ['Country/Region','Province/State','Month','Week','Day']\n",
    "df_formatted = df_formatted.groupby(group).max().sort_values(by=sort_columns,axis=0)\n",
    "\n",
    "# creating columns of daily percentage of increase in values:\n",
    "for col in root_columns:\n",
    "    daily_inc = col + \"_daily_%inc\"\n",
    "    df_formatted[daily_inc] = df_formatted[col].pct_change().fillna(value=0)*100\n",
    "\n",
    "# creating columns of moving average in root columns values:\n",
    "group = ['Country/Region','Province/State']\n",
    "for col in root_columns:\n",
    "    for interval in MA:\n",
    "        interval_col_name = col + \"_\" + str(interval) + \"d_MA\"\n",
    "        df_formatted[interval_col_name] = df_formatted.groupby(group).rolling(interval)[col].mean().droplevel(level=[0,1]).fillna(method='bfill')\n",
    "\n",
    "# Calculating the number of days since the 1st case:\n",
    "df_formatted['Days_since_1st_case'] = pd.to_datetime(df_formatted.groupby(['Country/Region','Province/State'])['Date'].first())\n",
    "df_formatted['Days_since_1st_case'] = (df_formatted['Date'] - df_formatted['Days_since_1st_case']).dt.days\n",
    "\n",
    "\n",
    "# Calculating 1st and 2nd derivatives for root_columns:\n",
    "\n",
    "# Since the derivative of a function is subject to noise the calculation will be performed over \n",
    "# the mean data (taking the minimum interval) in order to minimize the noise influence\n",
    "\n",
    "interval = str(min(MA)) # The value of the minimum interval\n",
    "for col in root_columns:\n",
    "    column_name_first = col + '_1st_derivative'\n",
    "    column_name_second = col + '_2nd_derivative'\n",
    "    column_data = col + '_' + interval + \"d_MA\"\n",
    "    df_formatted[column_name_first] = (df_formatted[column_data] - df_formatted[column_data].shift(periods=1)).fillna(method='bfill')\n",
    "    df_formatted[column_name_second] = (df_formatted[column_name_first] - df_formatted[column_name_first].shift(periods=1)).fillna(method='bfill')"
   ]
  },
  {
   "cell_type": "code",
   "execution_count": 18,
   "metadata": {},
   "outputs": [],
   "source": [
    "df_formatted.to_excel('formatted_data.xlsx')"
   ]
  },
  {
   "cell_type": "markdown",
   "metadata": {},
   "source": [
    "# 4 - Ordering & Sorting the DataFrame columns"
   ]
  },
  {
   "cell_type": "code",
   "execution_count": 31,
   "metadata": {},
   "outputs": [],
   "source": [
    "columns = ['Date', 'Country/Region', 'Province/State', 'Latitude', 'Longitude',\n",
    "           'Confirmed', 'Deaths', 'Recovered', 'Active','Year', 'Month', 'Week',\n",
    "           'Day','Last Update']\n",
    "\n",
    "df_formatted = df_formatted[columns]"
   ]
  },
  {
   "cell_type": "markdown",
   "metadata": {},
   "source": [
    "# 5 - Writing dataframe into external file "
   ]
  },
  {
   "cell_type": "code",
   "execution_count": 9,
   "metadata": {},
   "outputs": [
    {
     "data": {
      "text/plain": [
       "2091565"
      ]
     },
     "execution_count": 9,
     "metadata": {},
     "output_type": "execute_result"
    }
   ],
   "source": [
    "df_formatted.size"
   ]
  }
 ],
 "metadata": {
  "kernelspec": {
   "display_name": "Python 3",
   "language": "python",
   "name": "python3"
  },
  "language_info": {
   "codemirror_mode": {
    "name": "ipython",
    "version": 3
   },
   "file_extension": ".py",
   "mimetype": "text/x-python",
   "name": "python",
   "nbconvert_exporter": "python",
   "pygments_lexer": "ipython3",
   "version": "3.7.6"
  }
 },
 "nbformat": 4,
 "nbformat_minor": 4
}
